{
 "cells": [
  {
   "cell_type": "code",
   "execution_count": null,
   "id": "5347408f",
   "metadata": {
    "slideshow": {
     "slide_type": "skip"
    }
   },
   "outputs": [],
   "source": [
    "from notebook.services.config import ConfigManager\n",
    "cm = ConfigManager()\n",
    "cm.update('livereveal', {\n",
    "        'scroll': True,\n",
    "        'width': \"100%\",\n",
    "        'height': \"100%\",\n",
    "})"
   ]
  },
  {
   "cell_type": "markdown",
   "id": "c070f26a",
   "metadata": {
    "slideshow": {
     "slide_type": "slide"
    }
   },
   "source": [
    "# SOLID Workshop\n",
    "- SRE: Single Responsibility Principle\n",
    "- OCP: Open Close Principle\n",
    "- LSP:\n",
    "- ISP:\n",
    "- DIP:"
   ]
  },
  {
   "cell_type": "markdown",
   "id": "f9f5c7c7",
   "metadata": {
    "slideshow": {
     "slide_type": "slide"
    }
   },
   "source": [
    "## SRE: Single Responsibility Principle\n",
    "\n",
    "\"Every software compponent should have one and only one responsibility\"\n",
    "\n",
    "Key points:\n",
    "- Aim for High Cohesion \n",
    "- Aim for Loose Coupling"
   ]
  },
  {
   "cell_type": "markdown",
   "id": "5f110c07",
   "metadata": {
    "slideshow": {
     "slide_type": "subslide"
    }
   },
   "source": [
    "### Example 1: Cohesion \n",
    "\n",
    "\"Cohesion is the degree to which the various parts of a software components are related\""
   ]
  },
  {
   "cell_type": "code",
   "execution_count": null,
   "id": "2b4c8441",
   "metadata": {
    "slideshow": {
     "slide_type": "-"
    }
   },
   "outputs": [],
   "source": [
    "class Square:\n",
    "    def __init__(self):\n",
    "        self.side = 5\n",
    "    \n",
    "    def calculate_area(self):\n",
    "        return self.side * self.side\n",
    "    \n",
    "    def calculate_perimeter(self):\n",
    "        return self.side * 4\n",
    "    \n",
    "    def draw(self):\n",
    "        print(\"rendering the square image\")\n",
    "    \n",
    "    def rotate(self, degree):\n",
    "        print(f\"rotating the image of the square clockwise to {degree} degree\")\n",
    "        self.draw()"
   ]
  },
  {
   "cell_type": "code",
   "execution_count": null,
   "id": "bf438b7b",
   "metadata": {
    "slideshow": {
     "slide_type": "-"
    }
   },
   "outputs": [],
   "source": [
    "square = Square()\n",
    "print(f\"Square Area: {square.calculate_area()}\")\n",
    "print(f\"Square Perimeter: {square.calculate_perimeter()}\")\n",
    "\n",
    "square.draw()\n",
    "square.rotate(25)"
   ]
  },
  {
   "cell_type": "markdown",
   "id": "538fb42a",
   "metadata": {
    "slideshow": {
     "slide_type": "subslide"
    }
   },
   "source": [
    "### Let's refactor the code"
   ]
  },
  {
   "cell_type": "code",
   "execution_count": null,
   "id": "2d5d73c0",
   "metadata": {},
   "outputs": [],
   "source": [
    "class Square:\n",
    "    def __init__(self):\n",
    "        self.side:int = 5\n",
    "    \n",
    "    def calculate_area(self) -> int:\n",
    "        return self.side * self.side\n",
    "    \n",
    "    def calculate_perimeter(self) -> int:\n",
    "        return self.side * 4"
   ]
  },
  {
   "cell_type": "code",
   "execution_count": null,
   "id": "4533ea8b",
   "metadata": {},
   "outputs": [],
   "source": [
    "class SquareUI:\n",
    "    def __init__(self, square:Square):\n",
    "        self.square: Square = square\n",
    "        \n",
    "    def draw(self):\n",
    "        print(\"rendering the square image\")\n",
    "    \n",
    "    def rotate(self, degree:int):\n",
    "        print(f\"rotating the image of the square clockwise to {degree} degree\")\n",
    "        self.draw()"
   ]
  },
  {
   "cell_type": "code",
   "execution_count": null,
   "id": "99b2a14d",
   "metadata": {},
   "outputs": [],
   "source": [
    "square = Square()\n",
    "print(f\"Square Area: {square.calculate_area()}\")\n",
    "print(f\"Square Perimeter: {square.calculate_perimeter()}\")\n",
    "\n",
    "square_ui = SquareUI(square)\n",
    "square_ui.draw()\n",
    "square_ui.rotate(25)"
   ]
  },
  {
   "cell_type": "markdown",
   "id": "05c68bfd",
   "metadata": {
    "slideshow": {
     "slide_type": "subslide"
    }
   },
   "source": [
    "### Example 2: Coupling \n",
    "\n",
    "\"Coupling is defined as the level of inter-dependency between various software components\""
   ]
  },
  {
   "cell_type": "code",
   "execution_count": null,
   "id": "dff6edc8",
   "metadata": {},
   "outputs": [],
   "source": [
    "import mysql.connector\n",
    "\n",
    "class Student:\n",
    "    def __init__(self, name:str, age:int, grade:int):\n",
    "        self.name:str = name\n",
    "        self.age:int = age\n",
    "        self.grade:int = grade\n",
    "    \n",
    "    def save(self):\n",
    "        # Connect to MySQL database\n",
    "        connection = mysql.connector.connect(\n",
    "            host=\"localhost\",\n",
    "            user=\"your_username\",\n",
    "            password=\"your_password\",\n",
    "            database=\"your_database\"\n",
    "        )\n",
    "\n",
    "        # Create a cursor object\n",
    "        cursor = connection.cursor()\n",
    "\n",
    "        # Insert student data into the database\n",
    "        query = \"INSERT INTO students (name, age, grade) VALUES (%s, %s, %s)\"\n",
    "        values = (self.name, self.age, self.grade)\n",
    "        cursor.execute(query, values)\n",
    "\n",
    "        # Commit the transaction\n",
    "        connection.commit()\n",
    "\n",
    "        # Close the cursor and connection\n",
    "        cursor.close()\n",
    "        connection.close()"
   ]
  },
  {
   "cell_type": "code",
   "execution_count": null,
   "id": "b6ad1bc9",
   "metadata": {},
   "outputs": [],
   "source": [
    "# Create a student object\n",
    "student = Student(\"John Doe\", 18, \"12th\")\n",
    "\n",
    "# Save the student data\n",
    "student.save()"
   ]
  },
  {
   "cell_type": "markdown",
   "id": "e167c866",
   "metadata": {
    "slideshow": {
     "slide_type": "subslide"
    }
   },
   "source": [
    "### Let's refactor the code"
   ]
  },
  {
   "cell_type": "code",
   "execution_count": null,
   "id": "f88aed82",
   "metadata": {},
   "outputs": [],
   "source": [
    "class Student:\n",
    "    def __init__(self, name:str, age:int, grade:int):\n",
    "        self.name:str = name\n",
    "        self.age:int = age\n",
    "        self.grade:int = grade"
   ]
  },
  {
   "cell_type": "code",
   "execution_count": null,
   "id": "7664929f",
   "metadata": {},
   "outputs": [],
   "source": [
    "import mysql.connector\n",
    "\n",
    "class StudentRepository:\n",
    "    def __init__(self):\n",
    "        self.__db_connection = None\n",
    "    \n",
    "    def save(self, student:Student):\n",
    "        self.__create_db_connection()\n",
    "        self.__insert_student_data(student)\n",
    "        self.__close_db_connection\n",
    "    \n",
    "    def __create_db_connection(self):\n",
    "        conn = mysql.connector.connect(host=\"localhost\",\n",
    "                                       user=\"your_username\",\n",
    "                                       password=\"your_password\",\n",
    "                                       database=\"your_database\")\n",
    "        self.__db_connection = conn\n",
    "        \n",
    "    def __close_db_connection(self):\n",
    "        self.__db_connection.close()\n",
    "        \n",
    "    def __insert_student_data(self, student:Student):\n",
    "        with self.__db_connection.cursor() as cursor:\n",
    "            query = \"INSERT INTO students (name, age, grade) VALUES (%s, %s, %s)\"\n",
    "            values = (student.name, student.age, student.grade)\n",
    "            cursor.execute(query, values)\n",
    "            self.__db_connection.commit()"
   ]
  },
  {
   "cell_type": "code",
   "execution_count": null,
   "id": "d54a8f01",
   "metadata": {},
   "outputs": [],
   "source": [
    "student = Student(\"John Doe\", 18, \"12th\")\n",
    "student_repo = StudentRepository()\n",
    "student_repo.save(student)"
   ]
  },
  {
   "cell_type": "markdown",
   "id": "35da2744",
   "metadata": {
    "slideshow": {
     "slide_type": "slide"
    }
   },
   "source": [
    "## OCP: Open Close Principle\n",
    "\n",
    "\"Software components should be closed for modification, but open for extension\"\n",
    "\n",
    "Key points:\n",
    "- Ease of adding new features \n",
    "- Lean to minimal cost of developing and testing software\n",
    "- **OCP** often requires decoupling, which in turn automatically follows the **SRP**"
   ]
  },
  {
   "cell_type": "markdown",
   "id": "f1cb433a",
   "metadata": {
    "slideshow": {
     "slide_type": "subslide"
    }
   },
   "source": [
    "### Example: Health Insurance "
   ]
  },
  {
   "cell_type": "code",
   "execution_count": null,
   "id": "bc834b06",
   "metadata": {
    "slideshow": {
     "slide_type": "-"
    }
   },
   "outputs": [],
   "source": [
    "class HealthInsuranceCustomerProfile:\n",
    "    def is_loyal(self) -> bool:\n",
    "        # some complex business logic to determine \n",
    "        # a loyal health insurance customer\n",
    "        return True # or False"
   ]
  },
  {
   "cell_type": "code",
   "execution_count": null,
   "id": "92057a1a",
   "metadata": {},
   "outputs": [],
   "source": [
    "class InsurancePremiumDiscountCalculator:\n",
    "    def calculate_discount(self, customer:HealthInsuranceCustomerProfile) -> int:\n",
    "        if customer.is_loyal:\n",
    "            return 20\n",
    "        return 0"
   ]
  },
  {
   "cell_type": "markdown",
   "id": "47540a00",
   "metadata": {
    "slideshow": {
     "slide_type": "subslide"
    }
   },
   "source": [
    "### Problem: What if Health + Vehicle Insurance "
   ]
  },
  {
   "cell_type": "code",
   "execution_count": null,
   "id": "19c358f0",
   "metadata": {},
   "outputs": [],
   "source": [
    "class HealthInsuranceCustomerProfile:\n",
    "    def is_loyal(self) -> bool:\n",
    "        # some complex business logic to determine \n",
    "        # a loyal health insurance customer\n",
    "        return True # or False"
   ]
  },
  {
   "cell_type": "code",
   "execution_count": null,
   "id": "a2d031b3",
   "metadata": {},
   "outputs": [],
   "source": [
    "class VehicleInsuranceCustomerProfile:\n",
    "    def is_loyal(self) -> bool:\n",
    "        # some complex business logic to determine \n",
    "        # a loyal vehicle insurance customer\n",
    "        return True # or False"
   ]
  },
  {
   "cell_type": "code",
   "execution_count": null,
   "id": "ea145d8e",
   "metadata": {},
   "outputs": [],
   "source": [
    "class InsurancePremiumDiscountCalculator:\n",
    "    def calculate_health_insurance_discount(self, customer:HealthInsuranceCustomerProfile) -> int:\n",
    "        if customer.is_loyal:\n",
    "            return 20\n",
    "        return 0\n",
    "    \n",
    "    def calculate_vehicle_insurance_discount(self, customer:VehicleInsuranceCustomerProfile) -> int:\n",
    "        if customer.is_loyal:\n",
    "            return 20\n",
    "        return 0"
   ]
  },
  {
   "cell_type": "markdown",
   "id": "492c71e6",
   "metadata": {
    "slideshow": {
     "slide_type": "subslide"
    }
   },
   "source": [
    "### Let's refactor the code"
   ]
  },
  {
   "cell_type": "code",
   "execution_count": null,
   "id": "7816d925",
   "metadata": {},
   "outputs": [],
   "source": [
    "from abc import ABC, abstractmethod\n",
    "\n",
    "class CustomerProfile(ABC):\n",
    "    @abstractmethod\n",
    "    def is_loyal(self) -> bool:\n",
    "        pass"
   ]
  },
  {
   "cell_type": "code",
   "execution_count": null,
   "id": "d69473b4",
   "metadata": {},
   "outputs": [],
   "source": [
    "class HealthInsuranceCustomerProfile(CustomerProfile):    \n",
    "    def is_loyal(self) -> bool:\n",
    "        # some complex business logic to determine \n",
    "        # a loyal health insurance customer\n",
    "        return True # or False\n",
    "    \n",
    "class VehicleInsuranceCustomerProfile(CustomerProfile):\n",
    "    def is_loyal(self) -> bool:\n",
    "        # some complex business logic to determine \n",
    "        # a loyal vehicle insurance customer\n",
    "        return True # or False  "
   ]
  },
  {
   "cell_type": "code",
   "execution_count": null,
   "id": "c483a358",
   "metadata": {},
   "outputs": [],
   "source": [
    "class InsurancePremiumDiscountCalculator:\n",
    "    def calculate_discount(self, customer:CustomerProfile) -> int:\n",
    "        if customer.is_loyal:\n",
    "            return 20\n",
    "        return 0"
   ]
  },
  {
   "cell_type": "markdown",
   "id": "4f73eb5a",
   "metadata": {
    "slideshow": {
     "slide_type": "subslide"
    }
   },
   "source": [
    "### Adding Home Insurance? No Problem"
   ]
  },
  {
   "cell_type": "markdown",
   "id": "5a639214",
   "metadata": {},
   "source": [
    "No need to modify the existing code base"
   ]
  },
  {
   "cell_type": "code",
   "execution_count": null,
   "id": "91caaf29",
   "metadata": {},
   "outputs": [],
   "source": [
    "from abc import ABC, abstractmethod\n",
    "\n",
    "class CustomerProfile(ABC):\n",
    "    @abstractmethod\n",
    "    def is_loyal(self) -> bool:\n",
    "        pass\n",
    "    \n",
    "class HealthInsuranceCustomerProfile(CustomerProfile):    \n",
    "    def is_loyal(self) -> bool:\n",
    "        # some complex business logic to determine \n",
    "        # a loyal health insurance customer\n",
    "        return True # or False\n",
    "    \n",
    "class VehicleInsuranceCustomerProfile(CustomerProfile):\n",
    "    def is_loyal(self) -> bool:\n",
    "        # some complex business logic to determine \n",
    "        # a loyal vehicle insurance customer\n",
    "        return True # or False  \n",
    "    \n",
    "class InsurancePremiumDiscountCalculator:\n",
    "    def calculate_discount(self, customer:CustomerProfile) -> int:\n",
    "        if customer.is_loyal:\n",
    "            return 20\n",
    "        return 0"
   ]
  },
  {
   "cell_type": "markdown",
   "id": "feaf8e17",
   "metadata": {},
   "source": [
    "Simply adding a new implementation for CustomerProfile"
   ]
  },
  {
   "cell_type": "code",
   "execution_count": null,
   "id": "3e1e418f",
   "metadata": {},
   "outputs": [],
   "source": [
    "class HomeInsuranceCustomerProfile(CustomerProfile):\n",
    "    def is_loyal(self) -> bool:\n",
    "        # some complex business logic to determine \n",
    "        # a loyal home insurance customer\n",
    "        return True # or False  "
   ]
  },
  {
   "cell_type": "code",
   "execution_count": null,
   "id": "b73385c8",
   "metadata": {},
   "outputs": [],
   "source": []
  }
 ],
 "metadata": {
  "celltoolbar": "Slideshow",
  "kernelspec": {
   "display_name": "Python 3 (ipykernel)",
   "language": "python",
   "name": "python3"
  },
  "language_info": {
   "codemirror_mode": {
    "name": "ipython",
    "version": 3
   },
   "file_extension": ".py",
   "mimetype": "text/x-python",
   "name": "python",
   "nbconvert_exporter": "python",
   "pygments_lexer": "ipython3",
   "version": "3.9.12"
  }
 },
 "nbformat": 4,
 "nbformat_minor": 5
}
