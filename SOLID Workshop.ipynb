{
 "cells": [
  {
   "cell_type": "code",
   "execution_count": null,
   "id": "5347408f",
   "metadata": {
    "slideshow": {
     "slide_type": "skip"
    }
   },
   "outputs": [],
   "source": [
    "from notebook.services.config import ConfigManager\n",
    "cm = ConfigManager()\n",
    "cm.update('livereveal', {\n",
    "        'scroll': True,\n",
    "        'width': \"100%\",\n",
    "        'height': \"100%\",\n",
    "})"
   ]
  },
  {
   "cell_type": "markdown",
   "id": "c070f26a",
   "metadata": {
    "slideshow": {
     "slide_type": "slide"
    }
   },
   "source": [
    "# SOLID Workshop\n",
    "- SRE: Single Responsibility Principle\n",
    "- OCP: Open Close Principle\n",
    "- LSP: Liskov Substitution Principle\n",
    "- ISP:\n",
    "- DIP:"
   ]
  },
  {
   "cell_type": "markdown",
   "id": "f9f5c7c7",
   "metadata": {
    "slideshow": {
     "slide_type": "slide"
    }
   },
   "source": [
    "## SRE: Single Responsibility Principle\n",
    "\n",
    "\"Every software compponent should have one and only one responsibility\"\n",
    "\n",
    "Key points:\n",
    "- Aim for High Cohesion \n",
    "- Aim for Loose Coupling"
   ]
  },
  {
   "cell_type": "markdown",
   "id": "5f110c07",
   "metadata": {
    "slideshow": {
     "slide_type": "subslide"
    }
   },
   "source": [
    "### Example 1: Cohesion \n",
    "\n",
    "\"Cohesion is the degree to which the various parts of a software components are related\""
   ]
  },
  {
   "cell_type": "code",
   "execution_count": null,
   "id": "2b4c8441",
   "metadata": {
    "slideshow": {
     "slide_type": "-"
    }
   },
   "outputs": [],
   "source": [
    "class Square:\n",
    "    def __init__(self):\n",
    "        self.side = 5\n",
    "    \n",
    "    def calculate_area(self):\n",
    "        return self.side * self.side\n",
    "    \n",
    "    def calculate_perimeter(self):\n",
    "        return self.side * 4\n",
    "    \n",
    "    def draw(self):\n",
    "        print(\"rendering the square image\")\n",
    "    \n",
    "    def rotate(self, degree):\n",
    "        print(f\"rotating the image of the square clockwise to {degree} degree\")\n",
    "        self.draw()"
   ]
  },
  {
   "cell_type": "code",
   "execution_count": null,
   "id": "bf438b7b",
   "metadata": {
    "slideshow": {
     "slide_type": "-"
    }
   },
   "outputs": [],
   "source": [
    "square = Square()\n",
    "print(f\"Square Area: {square.calculate_area()}\")\n",
    "print(f\"Square Perimeter: {square.calculate_perimeter()}\")\n",
    "\n",
    "square.draw()\n",
    "square.rotate(25)"
   ]
  },
  {
   "cell_type": "markdown",
   "id": "538fb42a",
   "metadata": {
    "slideshow": {
     "slide_type": "subslide"
    }
   },
   "source": [
    "### Let's refactor the code"
   ]
  },
  {
   "cell_type": "code",
   "execution_count": null,
   "id": "2d5d73c0",
   "metadata": {},
   "outputs": [],
   "source": [
    "class Square:\n",
    "    def __init__(self):\n",
    "        self.side:int = 5\n",
    "    \n",
    "    def calculate_area(self) -> int:\n",
    "        return self.side * self.side\n",
    "    \n",
    "    def calculate_perimeter(self) -> int:\n",
    "        return self.side * 4"
   ]
  },
  {
   "cell_type": "code",
   "execution_count": null,
   "id": "4533ea8b",
   "metadata": {},
   "outputs": [],
   "source": [
    "class SquareUI:\n",
    "    def __init__(self, square:Square):\n",
    "        self.square: Square = square\n",
    "        \n",
    "    def draw(self):\n",
    "        print(\"rendering the square image\")\n",
    "    \n",
    "    def rotate(self, degree:int):\n",
    "        print(f\"rotating the image of the square clockwise to {degree} degree\")\n",
    "        self.draw()"
   ]
  },
  {
   "cell_type": "code",
   "execution_count": null,
   "id": "99b2a14d",
   "metadata": {},
   "outputs": [],
   "source": [
    "square = Square()\n",
    "print(f\"Square Area: {square.calculate_area()}\")\n",
    "print(f\"Square Perimeter: {square.calculate_perimeter()}\")\n",
    "\n",
    "square_ui = SquareUI(square)\n",
    "square_ui.draw()\n",
    "square_ui.rotate(25)"
   ]
  },
  {
   "cell_type": "markdown",
   "id": "05c68bfd",
   "metadata": {
    "slideshow": {
     "slide_type": "subslide"
    }
   },
   "source": [
    "### Example 2: Coupling \n",
    "\n",
    "\"Coupling is defined as the level of inter-dependency between various software components\""
   ]
  },
  {
   "cell_type": "code",
   "execution_count": null,
   "id": "dff6edc8",
   "metadata": {},
   "outputs": [],
   "source": [
    "import mysql.connector\n",
    "\n",
    "class Student:\n",
    "    def __init__(self, name:str, age:int, grade:int):\n",
    "        self.name:str = name\n",
    "        self.age:int = age\n",
    "        self.grade:int = grade\n",
    "    \n",
    "    def save(self):\n",
    "        # Connect to MySQL database\n",
    "        connection = mysql.connector.connect(\n",
    "            host=\"localhost\",\n",
    "            user=\"your_username\",\n",
    "            password=\"your_password\",\n",
    "            database=\"your_database\"\n",
    "        )\n",
    "\n",
    "        # Create a cursor object\n",
    "        cursor = connection.cursor()\n",
    "\n",
    "        # Insert student data into the database\n",
    "        query = \"INSERT INTO students (name, age, grade) VALUES (%s, %s, %s)\"\n",
    "        values = (self.name, self.age, self.grade)\n",
    "        cursor.execute(query, values)\n",
    "\n",
    "        # Commit the transaction\n",
    "        connection.commit()\n",
    "\n",
    "        # Close the cursor and connection\n",
    "        cursor.close()\n",
    "        connection.close()"
   ]
  },
  {
   "cell_type": "code",
   "execution_count": null,
   "id": "b6ad1bc9",
   "metadata": {},
   "outputs": [],
   "source": [
    "# Create a student object\n",
    "student = Student(\"John Doe\", 18, \"12th\")\n",
    "\n",
    "# Save the student data\n",
    "student.save()"
   ]
  },
  {
   "cell_type": "markdown",
   "id": "e167c866",
   "metadata": {
    "slideshow": {
     "slide_type": "subslide"
    }
   },
   "source": [
    "### Let's refactor the code"
   ]
  },
  {
   "cell_type": "code",
   "execution_count": null,
   "id": "f88aed82",
   "metadata": {},
   "outputs": [],
   "source": [
    "class Student:\n",
    "    def __init__(self, name:str, age:int, grade:int):\n",
    "        self.name:str = name\n",
    "        self.age:int = age\n",
    "        self.grade:int = grade"
   ]
  },
  {
   "cell_type": "code",
   "execution_count": null,
   "id": "7664929f",
   "metadata": {},
   "outputs": [],
   "source": [
    "import mysql.connector\n",
    "\n",
    "class StudentRepository:\n",
    "    def __init__(self):\n",
    "        self.__db_connection = None\n",
    "    \n",
    "    def save(self, student:Student):\n",
    "        self.__create_db_connection()\n",
    "        self.__insert_student_data(student)\n",
    "        self.__close_db_connection\n",
    "    \n",
    "    def __create_db_connection(self):\n",
    "        conn = mysql.connector.connect(host=\"localhost\",\n",
    "                                       user=\"your_username\",\n",
    "                                       password=\"your_password\",\n",
    "                                       database=\"your_database\")\n",
    "        self.__db_connection = conn\n",
    "        \n",
    "    def __close_db_connection(self):\n",
    "        self.__db_connection.close()\n",
    "        \n",
    "    def __insert_student_data(self, student:Student):\n",
    "        with self.__db_connection.cursor() as cursor:\n",
    "            query = \"INSERT INTO students (name, age, grade) VALUES (%s, %s, %s)\"\n",
    "            values = (student.name, student.age, student.grade)\n",
    "            cursor.execute(query, values)\n",
    "            self.__db_connection.commit()"
   ]
  },
  {
   "cell_type": "code",
   "execution_count": null,
   "id": "d54a8f01",
   "metadata": {},
   "outputs": [],
   "source": [
    "student = Student(\"John Doe\", 18, \"12th\")\n",
    "student_repo = StudentRepository()\n",
    "student_repo.save(student)"
   ]
  },
  {
   "cell_type": "markdown",
   "id": "82cb97e1",
   "metadata": {
    "slideshow": {
     "slide_type": "slide"
    }
   },
   "source": [
    "## OCP: Open Close Principle\n",
    "\n",
    "\"Software components should be closed for modification, but open for extension\"\n",
    "\n",
    "Key points:\n",
    "- Ease of adding new features \n",
    "- Lean to minimal cost of developing and testing software\n",
    "- **OCP** often requires decoupling, which in turn automatically follows the **SRP**"
   ]
  },
  {
   "cell_type": "markdown",
   "id": "6981b329",
   "metadata": {
    "slideshow": {
     "slide_type": "subslide"
    }
   },
   "source": [
    "### Example: Health Insurance "
   ]
  },
  {
   "cell_type": "code",
   "execution_count": null,
   "id": "39ce76d9",
   "metadata": {
    "slideshow": {
     "slide_type": "-"
    }
   },
   "outputs": [],
   "source": [
    "class HealthInsuranceCustomerProfile:\n",
    "    def is_loyal(self) -> bool:\n",
    "        # some complex business logic to determine \n",
    "        # a loyal health insurance customer\n",
    "        return True # or False"
   ]
  },
  {
   "cell_type": "code",
   "execution_count": null,
   "id": "da3613fb",
   "metadata": {},
   "outputs": [],
   "source": [
    "class InsurancePremiumDiscountCalculator:\n",
    "    def calculate_discount(self, customer:HealthInsuranceCustomerProfile) -> int:\n",
    "        if customer.is_loyal:\n",
    "            return 20\n",
    "        return 0"
   ]
  },
  {
   "cell_type": "code",
   "execution_count": null,
   "id": "81a49e32",
   "metadata": {},
   "outputs": [],
   "source": [
    "customer_profile = HealthInsuranceCustomerProfile()\n",
    "calculator = InsurancePremiumDiscountCalculator()\n",
    "discount = calculator.calculate_discount(customer_profile)\n",
    "print(f\"The discount: {discount}\")"
   ]
  },
  {
   "cell_type": "markdown",
   "id": "42e7533c",
   "metadata": {
    "slideshow": {
     "slide_type": "subslide"
    }
   },
   "source": [
    "### Problem: What if Health + Vehicle Insurance "
   ]
  },
  {
   "cell_type": "code",
   "execution_count": null,
   "id": "871c11ed",
   "metadata": {},
   "outputs": [],
   "source": [
    "class HealthInsuranceCustomerProfile:\n",
    "    def is_loyal(self) -> bool:\n",
    "        # some complex business logic to determine \n",
    "        # a loyal health insurance customer\n",
    "        return True # or False"
   ]
  },
  {
   "cell_type": "code",
   "execution_count": null,
   "id": "227daaa7",
   "metadata": {},
   "outputs": [],
   "source": [
    "class VehicleInsuranceCustomerProfile:\n",
    "    def is_loyal(self) -> bool:\n",
    "        # some complex business logic to determine \n",
    "        # a loyal vehicle insurance customer\n",
    "        return True # or False"
   ]
  },
  {
   "cell_type": "code",
   "execution_count": null,
   "id": "1db7b394",
   "metadata": {},
   "outputs": [],
   "source": [
    "class InsurancePremiumDiscountCalculator:\n",
    "    def calculate_health_insurance_discount(self, customer:HealthInsuranceCustomerProfile) -> int:\n",
    "        if customer.is_loyal:\n",
    "            return 20\n",
    "        return 0\n",
    "    \n",
    "    def calculate_vehicle_insurance_discount(self, customer:VehicleInsuranceCustomerProfile) -> int:\n",
    "        if customer.is_loyal:\n",
    "            return 20\n",
    "        return 0"
   ]
  },
  {
   "cell_type": "code",
   "execution_count": null,
   "id": "9f55aafe",
   "metadata": {},
   "outputs": [],
   "source": [
    "calculator = InsurancePremiumDiscountCalculator()\n",
    "\n",
    "health_customer = HealthInsuranceCustomerProfile()\n",
    "health_discount = calculator.calculate_health_insurance_discount(health_customer)\n",
    "print(f\"health discount: {health_discount}\")\n",
    "\n",
    "vehicle_customer = VehicleInsuranceCustomerProfile()\n",
    "vehicle_discount = calculator.calculate_vehicle_insurance_discount(vehicle_customer)\n",
    "print(f\"vehicle discount: {vehicle_discount}\")"
   ]
  },
  {
   "cell_type": "markdown",
   "id": "02316b7f",
   "metadata": {
    "slideshow": {
     "slide_type": "subslide"
    }
   },
   "source": [
    "### Let's refactor the code"
   ]
  },
  {
   "cell_type": "code",
   "execution_count": null,
   "id": "a58f82d6",
   "metadata": {},
   "outputs": [],
   "source": [
    "from abc import ABC, abstractmethod\n",
    "\n",
    "class CustomerProfile(ABC):\n",
    "    @abstractmethod\n",
    "    def is_loyal(self) -> bool:\n",
    "        pass"
   ]
  },
  {
   "cell_type": "code",
   "execution_count": null,
   "id": "afe2c11a",
   "metadata": {},
   "outputs": [],
   "source": [
    "class HealthInsuranceCustomerProfile(CustomerProfile):    \n",
    "    def is_loyal(self) -> bool:\n",
    "        # some complex business logic to determine \n",
    "        # a loyal health insurance customer\n",
    "        return True # or False\n",
    "    \n",
    "class VehicleInsuranceCustomerProfile(CustomerProfile):\n",
    "    def is_loyal(self) -> bool:\n",
    "        # some complex business logic to determine \n",
    "        # a loyal vehicle insurance customer\n",
    "        return True # or False  "
   ]
  },
  {
   "cell_type": "code",
   "execution_count": null,
   "id": "a2f59c10",
   "metadata": {},
   "outputs": [],
   "source": [
    "class InsurancePremiumDiscountCalculator:\n",
    "    def calculate_discount(self, customer:CustomerProfile) -> int:\n",
    "        if customer.is_loyal:\n",
    "            return 20\n",
    "        return 0"
   ]
  },
  {
   "cell_type": "code",
   "execution_count": null,
   "id": "f3fc2ee0",
   "metadata": {},
   "outputs": [],
   "source": [
    "calculator = InsurancePremiumDiscountCalculator()\n",
    "\n",
    "health_customer = HealthInsuranceCustomerProfile()\n",
    "health_discount = calculator.calculate_discount(health_customer)\n",
    "print(f\"health discount: {health_discount}\")\n",
    "\n",
    "vehicle_customer = VehicleInsuranceCustomerProfile()\n",
    "vehicle_discount = calculator.calculate_discount(vehicle_customer)\n",
    "print(f\"vehicle discount: {vehicle_discount}\")"
   ]
  },
  {
   "cell_type": "markdown",
   "id": "5fd8d470",
   "metadata": {
    "slideshow": {
     "slide_type": "subslide"
    }
   },
   "source": [
    "### Adding Home Insurance? No Problem"
   ]
  },
  {
   "cell_type": "markdown",
   "id": "0b6e8c8b",
   "metadata": {},
   "source": [
    "No need to modify the existing code base"
   ]
  },
  {
   "cell_type": "code",
   "execution_count": null,
   "id": "5882be96",
   "metadata": {},
   "outputs": [],
   "source": [
    "from abc import ABC, abstractmethod\n",
    "\n",
    "class CustomerProfile(ABC):\n",
    "    @abstractmethod\n",
    "    def is_loyal(self) -> bool:\n",
    "        pass\n",
    "    \n",
    "class HealthInsuranceCustomerProfile(CustomerProfile):    \n",
    "    def is_loyal(self) -> bool:\n",
    "        # some complex business logic to determine \n",
    "        # a loyal health insurance customer\n",
    "        return True # or False\n",
    "    \n",
    "class VehicleInsuranceCustomerProfile(CustomerProfile):\n",
    "    def is_loyal(self) -> bool:\n",
    "        # some complex business logic to determine \n",
    "        # a loyal vehicle insurance customer\n",
    "        return True # or False  \n",
    "    \n",
    "class InsurancePremiumDiscountCalculator:\n",
    "    def calculate_discount(self, customer:CustomerProfile) -> int:\n",
    "        if customer.is_loyal:\n",
    "            return 20\n",
    "        return 0"
   ]
  },
  {
   "cell_type": "code",
   "execution_count": null,
   "id": "0cf8a76a",
   "metadata": {},
   "outputs": [],
   "source": [
    "calculator = InsurancePremiumDiscountCalculator()\n",
    "\n",
    "health_customer = HealthInsuranceCustomerProfile()\n",
    "health_discount = calculator.calculate_discount(health_customer)\n",
    "print(f\"health discount: {health_discount}\")\n",
    "\n",
    "vehicle_customer = VehicleInsuranceCustomerProfile()\n",
    "vehicle_discount = calculator.calculate_discount(vehicle_customer)\n",
    "print(f\"vehicle discount: {vehicle_discount}\")"
   ]
  },
  {
   "cell_type": "markdown",
   "id": "1b152563",
   "metadata": {},
   "source": [
    "Simply adding a new implementation for CustomerProfile"
   ]
  },
  {
   "cell_type": "code",
   "execution_count": null,
   "id": "d571eedf",
   "metadata": {},
   "outputs": [],
   "source": [
    "class HomeInsuranceCustomerProfile(CustomerProfile):\n",
    "    def is_loyal(self) -> bool:\n",
    "        # some complex business logic to determine \n",
    "        # a loyal home insurance customer\n",
    "        return True # or False  "
   ]
  },
  {
   "cell_type": "code",
   "execution_count": null,
   "id": "87e6cde4",
   "metadata": {},
   "outputs": [],
   "source": [
    "home_customer = HomeInsuranceCustomerProfile()\n",
    "home_discount = calculator.calculate_discount(home_customer)\n",
    "print(f\"home discount: {home_discount}\")"
   ]
  },
  {
   "cell_type": "markdown",
   "id": "2d07928e",
   "metadata": {
    "slideshow": {
     "slide_type": "slide"
    }
   },
   "source": [
    "## LSP: Liskov Substitution Principle\n",
    "\n",
    "\"Objects should be replaceable with their subtypes without affecting the correctness of ther program\"\n",
    "\n",
    "Key points:\n",
    "- Change the \"Is-A\" way of thinking\n",
    "- \"If it looks like a duck and quacks like a duck but it needs batteries, you probably have the wrong abstraction\""
   ]
  },
  {
   "cell_type": "markdown",
   "id": "0cbff924",
   "metadata": {
    "slideshow": {
     "slide_type": "subslide"
    }
   },
   "source": [
    "### Example: Don't foce a pinguin to fly"
   ]
  },
  {
   "cell_type": "code",
   "execution_count": null,
   "id": "19264d05",
   "metadata": {},
   "outputs": [],
   "source": [
    "from abc import ABC, abstractmethod\n",
    "\n",
    "class Bird(ABC):\n",
    "    @abstractmethod\n",
    "    def fly(self):\n",
    "        pass"
   ]
  },
  {
   "cell_type": "code",
   "execution_count": null,
   "id": "6e3b3b18",
   "metadata": {},
   "outputs": [],
   "source": [
    "class Pigeon(Bird):\n",
    "    def fly(self):\n",
    "        print(\"Pigeon style flying\")"
   ]
  },
  {
   "cell_type": "code",
   "execution_count": null,
   "id": "cbbef6a9",
   "metadata": {},
   "outputs": [],
   "source": [
    "pigeon = Pigeon()\n",
    "pigeon.fly()"
   ]
  },
  {
   "cell_type": "code",
   "execution_count": null,
   "id": "c94a875a",
   "metadata": {},
   "outputs": [],
   "source": [
    "class Pinguin(Bird):\n",
    "    def fly(self):\n",
    "        raise TypeError(\"Piguin cannot fly\")"
   ]
  },
  {
   "cell_type": "code",
   "execution_count": null,
   "id": "526f518d",
   "metadata": {},
   "outputs": [],
   "source": [
    "pinguin = Pinguin()\n",
    "pinguin.fly()"
   ]
  },
  {
   "cell_type": "markdown",
   "id": "5793c515",
   "metadata": {
    "slideshow": {
     "slide_type": "subslide"
    }
   },
   "source": [
    "### Example: Breaking the hierarchy"
   ]
  },
  {
   "cell_type": "code",
   "execution_count": null,
   "id": "2d9594f2",
   "metadata": {},
   "outputs": [],
   "source": [
    "class Car:\n",
    "    def show_cabin_width(self):\n",
    "        print(\"Showing cabin width\")"
   ]
  },
  {
   "cell_type": "code",
   "execution_count": null,
   "id": "2d7b9c95",
   "metadata": {},
   "outputs": [],
   "source": [
    "class RacingCar(Car):\n",
    "#     def show_cabin_width(self):\n",
    "#         raise TypeError(\"Racingcar doesn't have cabin\")\n",
    "    \n",
    "#     def show_cabin_width(self):\n",
    "#         self.show_cockpit_width()\n",
    "        \n",
    "    def show_cockpit_width(self):\n",
    "        print(\"Showing cockpit width\")"
   ]
  },
  {
   "cell_type": "code",
   "execution_count": null,
   "id": "3632710a",
   "metadata": {},
   "outputs": [],
   "source": [
    "cars = []\n",
    "cars.append(Car())\n",
    "cars.append(Car())\n",
    "cars.append(RacingCar())\n",
    "\n",
    "for car in cars:\n",
    "    car.show_cabin_width()"
   ]
  },
  {
   "cell_type": "markdown",
   "id": "8f1fa166",
   "metadata": {
    "slideshow": {
     "slide_type": "subslide"
    }
   },
   "source": [
    "### Let's refactor the code"
   ]
  },
  {
   "cell_type": "code",
   "execution_count": null,
   "id": "008e82cf",
   "metadata": {},
   "outputs": [],
   "source": [
    "from abc import ABC, abstractmethod\n",
    "\n",
    "class Vehicle(ABC):\n",
    "    @abstractmethod\n",
    "    def show_interior_width(self):\n",
    "        pass"
   ]
  },
  {
   "cell_type": "code",
   "execution_count": null,
   "id": "f4c6a64e",
   "metadata": {},
   "outputs": [],
   "source": [
    "class Car(Vehicle):\n",
    "    def show_interior_width(self):\n",
    "        self.show_cabin_width()\n",
    "    \n",
    "    def show_cabin_width(self):\n",
    "        print(\"Showing cabin width\")"
   ]
  },
  {
   "cell_type": "code",
   "execution_count": null,
   "id": "2912a15e",
   "metadata": {},
   "outputs": [],
   "source": [
    "class RacingCar(Vehicle):\n",
    "    def show_interior_width(self):\n",
    "        self.show_cockpit_width()\n",
    "    \n",
    "    def show_cockpit_width(self):\n",
    "        print(\"Showing cockpit width\")"
   ]
  },
  {
   "cell_type": "code",
   "execution_count": null,
   "id": "49f03820",
   "metadata": {},
   "outputs": [],
   "source": [
    "vehicles = []\n",
    "vehicles.append(Car())\n",
    "vehicles.append(Car())\n",
    "vehicles.append(RacingCar())\n",
    "\n",
    "for vehicle in vehicles:\n",
    "    vehicle.show_interior_width()"
   ]
  }
 ],
 "metadata": {
  "celltoolbar": "Slideshow",
  "kernelspec": {
   "display_name": "Python 3 (ipykernel)",
   "language": "python",
   "name": "python3"
  },
  "language_info": {
   "codemirror_mode": {
    "name": "ipython",
    "version": 3
   },
   "file_extension": ".py",
   "mimetype": "text/x-python",
   "name": "python",
   "nbconvert_exporter": "python",
   "pygments_lexer": "ipython3",
   "version": "3.9.12"
  }
 },
 "nbformat": 4,
 "nbformat_minor": 5
}
